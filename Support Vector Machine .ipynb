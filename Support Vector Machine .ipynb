{
 "cells": [
  {
   "cell_type": "markdown",
   "id": "f9fd3172-9523-4489-af8f-6105807491a2",
   "metadata": {},
   "source": [
    "# SVM(support vector machine)\n",
    "1.SVM is a ml algorithm that is use for both(classification and regression task).\n",
    "2.It is perticulerlly effective in dealing with complex and high dimancional data set.\n",
    "3.The fundamental principle of svm is to fine an optimal hipper plane that maximlize saprate different classes in the input space."
   ]
  },
  {
   "cell_type": "markdown",
   "id": "f934f1d9-ca1d-4316-a939-714fecf6c57a",
   "metadata": {},
   "source": [
    "# How svm works==> \n",
    "1==>We will prepaire over data set svm requires.\n",
    "2==>Labeled training data cunsosting or input features or crosponding class labels then.\n",
    "3==>Each data point is represented as a feature vactor where each feature discribe a perticular charaterstics of the data point.\n",
    "4==>The data point should be prepocess and scaled to ensure the features are on similer scales tipically bettween 0 and 1"
   ]
  },
  {
   "cell_type": "markdown",
   "id": "fe7ffa28-cb72-4422-948c-af77e95c98cc",
   "metadata": {},
   "source": [
    "# Hypperplane and margin==>\n",
    "SVM aims to find a hypper plane that best saprate the diffrent classes in feature space.\n",
    "In a binary classification problems the hypper plan is a line in a tourist place in a higher dimancial place.\n",
    "svm seeks to maximize the margen which is the distince between the hypper plane and the nearest data point from each class.\n",
    "the point in the margen are none as support vactor as the play erucial in defining the descion boundary.\n"
   ]
  },
  {
   "cell_type": "markdown",
   "id": "f9dc9df4-74ce-496f-9450-70aee165e882",
   "metadata": {},
   "source": [
    "# Linear SVM==>\n",
    "The linear svm find a linear hypper plane the saprate ,the classes, the gole is too find the hypper plane the maximize the margen while minimize\n",
    "the misclassification of training examples mathamaticlly.\n",
    "this can be calculated as an optimization problem with objective of minimizing weights of the hypper plane subject to the counstrint\n",
    "that all training examples lie on the correct side of the hypper plane "
   ]
  },
  {
   "cell_type": "markdown",
   "id": "f036e606-c6c7-430e-932d-f9a53e1d59a4",
   "metadata": {},
   "source": [
    "# non-linear SVM\n",
    "In cases where data is not linearlly saprable svm uses a techniqe kornel. \n",
    "The kornel trik map the original input into a higher dimancial feature space where the data points can be linarlly saprable.\n",
    "The choice of the kornel depend on the characterstic of the data and the problem at hand."
   ]
  },
  {
   "cell_type": "markdown",
   "id": "c81d5716-52cb-4c4c-918e-5fa127f1b070",
   "metadata": {},
   "source": [
    "# Training of SVM\n",
    "SVM training involve find the optimal       or desicion boundary that saprate the classes.\n",
    "the optimization problem tipically solved using methods such as quadratic programming or siquncilly minimal \n",
    "the process involve solving for the weights of the hypper plane and the bayies term which define the descion boundary \n",
    "the objective is to minimize the regularization term while ensuring that the training example are correctly classified.\n",
    "\n",
    "\n"
   ]
  },
  {
   "cell_type": "markdown",
   "id": "3a581e0f-fa12-4a93-bc8f-dac91e9bc306",
   "metadata": {},
   "source": [
    "# predction of SVM\n",
    "once the svm model is train it can be used too predict the class labels of new unseen data point.\n",
    "this algorithm compute the distince from the test point to the descion boundary \n",
    "the predicted class label is data mine based on weidth side of the descion boundary the pointlize\n",
    "the descion function can also provide a confidence score or probability estimate for the prediction"
   ]
  },
  {
   "cell_type": "code",
   "execution_count": null,
   "id": "69402318-bc11-4fbd-9cd7-0ea086a27856",
   "metadata": {},
   "outputs": [],
   "source": []
  }
 ],
 "metadata": {
  "kernelspec": {
   "display_name": "Python [conda env:base] *",
   "language": "python",
   "name": "conda-base-py"
  },
  "language_info": {
   "codemirror_mode": {
    "name": "ipython",
    "version": 3
   },
   "file_extension": ".py",
   "mimetype": "text/x-python",
   "name": "python",
   "nbconvert_exporter": "python",
   "pygments_lexer": "ipython3",
   "version": "3.12.7"
  }
 },
 "nbformat": 4,
 "nbformat_minor": 5
}
