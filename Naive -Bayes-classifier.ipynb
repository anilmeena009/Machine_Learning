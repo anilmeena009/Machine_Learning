{
 "cells": [
  {
   "cell_type": "markdown",
   "id": "95380ee8",
   "metadata": {},
   "source": [
    "# Naive Bayes Algorithm ===> \n",
    "\n",
    "\n",
    "The Naive Bayes algorithm is a family of simple yet powerful probabilistic classifiers \n",
    "based on applying Bayes' theorem with strong (naive) independence assumptions between the features. \n",
    "It's particularly popular for text classification tasks such as spam detection, sentiment analysis, \n",
    "and document categorization.\n",
    "\n",
    "\n",
    "There are several types of Naive Bayes classifiers, depending on the nature of the feature data:\n",
    "\n",
    "Gaussian Naive Bayes: Assumes that the features follow a normal (Gaussian) distribution. It's used for continuous data.\n",
    "\n",
    "\n",
    "Multinomial Naive Bayes: Used for discrete data, particularly in text classification where features represent word frequencies.\n",
    "\n",
    "\n",
    "Bernoulli Naive Bayes: Assumes binary features (0s and 1s), used for binary/boolean features, such as in text classification tasks where the presence or absence of a word is considered.\n",
    "Steps of Naive Bayes Algorithm\n",
    "Training Phase:\n",
    "\n",
    "Calculate the prior probability for each class.\n",
    "Calculate the likelihood for each feature given each class.\n",
    "If using Gaussian Naive Bayes, calculate the mean and variance of the features for each class."
   ]
  },
  {
   "cell_type": "code",
   "execution_count": null,
   "id": "80072ec2",
   "metadata": {},
   "outputs": [],
   "source": []
  },
  {
   "cell_type": "code",
   "execution_count": null,
   "id": "ad615b9f",
   "metadata": {},
   "outputs": [],
   "source": []
  },
  {
   "cell_type": "code",
   "execution_count": 1,
   "id": "aa47b80f",
   "metadata": {},
   "outputs": [],
   "source": [
    "import numpy as np \n",
    "import pandas as pd "
   ]
  },
  {
   "cell_type": "code",
   "execution_count": 2,
   "id": "db1a1771",
   "metadata": {},
   "outputs": [],
   "source": [
    "df = pd.read_csv(\"C:\\\\Users\\\\saurabh\\\\Desktop\\\\Newdat\\\\Social_Network_Ads.csv\" ,\n",
    "                 usecols = ['Age' , 'EstimatedSalary' , 'Purchased']) "
   ]
  },
  {
   "cell_type": "code",
   "execution_count": 3,
   "id": "b8489666",
   "metadata": {},
   "outputs": [
    {
     "data": {
      "text/html": [
       "<div>\n",
       "<style scoped>\n",
       "    .dataframe tbody tr th:only-of-type {\n",
       "        vertical-align: middle;\n",
       "    }\n",
       "\n",
       "    .dataframe tbody tr th {\n",
       "        vertical-align: top;\n",
       "    }\n",
       "\n",
       "    .dataframe thead th {\n",
       "        text-align: right;\n",
       "    }\n",
       "</style>\n",
       "<table border=\"1\" class=\"dataframe\">\n",
       "  <thead>\n",
       "    <tr style=\"text-align: right;\">\n",
       "      <th></th>\n",
       "      <th>Age</th>\n",
       "      <th>EstimatedSalary</th>\n",
       "      <th>Purchased</th>\n",
       "    </tr>\n",
       "  </thead>\n",
       "  <tbody>\n",
       "    <tr>\n",
       "      <th>0</th>\n",
       "      <td>19</td>\n",
       "      <td>19000</td>\n",
       "      <td>0</td>\n",
       "    </tr>\n",
       "    <tr>\n",
       "      <th>1</th>\n",
       "      <td>35</td>\n",
       "      <td>20000</td>\n",
       "      <td>0</td>\n",
       "    </tr>\n",
       "    <tr>\n",
       "      <th>2</th>\n",
       "      <td>26</td>\n",
       "      <td>43000</td>\n",
       "      <td>0</td>\n",
       "    </tr>\n",
       "    <tr>\n",
       "      <th>3</th>\n",
       "      <td>27</td>\n",
       "      <td>57000</td>\n",
       "      <td>0</td>\n",
       "    </tr>\n",
       "    <tr>\n",
       "      <th>4</th>\n",
       "      <td>19</td>\n",
       "      <td>76000</td>\n",
       "      <td>0</td>\n",
       "    </tr>\n",
       "  </tbody>\n",
       "</table>\n",
       "</div>"
      ],
      "text/plain": [
       "   Age  EstimatedSalary  Purchased\n",
       "0   19            19000          0\n",
       "1   35            20000          0\n",
       "2   26            43000          0\n",
       "3   27            57000          0\n",
       "4   19            76000          0"
      ]
     },
     "execution_count": 3,
     "metadata": {},
     "output_type": "execute_result"
    }
   ],
   "source": [
    "df.head() "
   ]
  },
  {
   "cell_type": "code",
   "execution_count": 4,
   "id": "f22969ca",
   "metadata": {},
   "outputs": [],
   "source": [
    "x = df.drop(columns = ['Purchased']) # Independent column\n",
    "y = df['Purchased']    # dependent column"
   ]
  },
  {
   "cell_type": "code",
   "execution_count": 5,
   "id": "43e79f1a",
   "metadata": {},
   "outputs": [],
   "source": [
    "from sklearn.model_selection import train_test_split "
   ]
  },
  {
   "cell_type": "code",
   "execution_count": 6,
   "id": "da000074",
   "metadata": {},
   "outputs": [],
   "source": [
    "x_train , x_test , y_train , y_test = train_test_split(x , y , \n",
    "                                                       test_size = 0.2 , \n",
    "                                                       random_state = 23) "
   ]
  },
  {
   "cell_type": "code",
   "execution_count": 7,
   "id": "0c059479",
   "metadata": {},
   "outputs": [],
   "source": [
    "from sklearn.preprocessing import StandardScaler "
   ]
  },
  {
   "cell_type": "code",
   "execution_count": 8,
   "id": "e4b6107f",
   "metadata": {},
   "outputs": [],
   "source": [
    "sc = StandardScaler() "
   ]
  },
  {
   "cell_type": "code",
   "execution_count": 9,
   "id": "8a5b056c",
   "metadata": {},
   "outputs": [],
   "source": [
    "x_train_new = sc.fit_transform(x_train)"
   ]
  },
  {
   "cell_type": "code",
   "execution_count": 10,
   "id": "4d5f3da6",
   "metadata": {},
   "outputs": [],
   "source": [
    "x_test_new = sc.transform(x_test)"
   ]
  },
  {
   "cell_type": "code",
   "execution_count": 11,
   "id": "64c6f0bf",
   "metadata": {},
   "outputs": [],
   "source": [
    "from sklearn.naive_bayes import GaussianNB\n",
    "classifier = GaussianNB() "
   ]
  },
  {
   "cell_type": "code",
   "execution_count": 12,
   "id": "8533b448",
   "metadata": {},
   "outputs": [
    {
     "data": {
      "text/plain": [
       "GaussianNB()"
      ]
     },
     "execution_count": 12,
     "metadata": {},
     "output_type": "execute_result"
    }
   ],
   "source": [
    "classifier.fit(x_train_new , y_train) "
   ]
  },
  {
   "cell_type": "code",
   "execution_count": 13,
   "id": "d4dec6fb",
   "metadata": {},
   "outputs": [],
   "source": [
    "y_pred = classifier.predict(x_test_new) "
   ]
  },
  {
   "cell_type": "code",
   "execution_count": 14,
   "id": "3d4148af",
   "metadata": {},
   "outputs": [
    {
     "data": {
      "text/plain": [
       "array([0, 1, 0, 0, 1, 0, 1, 1, 1, 0, 0, 1, 0, 0, 0, 0, 1, 0, 1, 0, 0, 0,\n",
       "       0, 0, 0, 0, 0, 0, 1, 1, 0, 0, 0, 1, 0, 0, 0, 0, 1, 0, 0, 0, 0, 0,\n",
       "       1, 0, 1, 0, 1, 1, 0, 0, 0, 0, 0, 1, 1, 0, 1, 1, 0, 0, 1, 1, 0, 0,\n",
       "       1, 0, 0, 0, 1, 0, 0, 0, 1, 0, 0, 1, 1, 0], dtype=int64)"
      ]
     },
     "execution_count": 14,
     "metadata": {},
     "output_type": "execute_result"
    }
   ],
   "source": [
    "y_pred"
   ]
  },
  {
   "cell_type": "code",
   "execution_count": 15,
   "id": "bb613b97",
   "metadata": {},
   "outputs": [],
   "source": [
    "from sklearn.metrics import confusion_matrix "
   ]
  },
  {
   "cell_type": "code",
   "execution_count": 16,
   "id": "2cbe300a",
   "metadata": {},
   "outputs": [],
   "source": [
    "cn = confusion_matrix(y_test , y_pred) "
   ]
  },
  {
   "cell_type": "code",
   "execution_count": 17,
   "id": "6fa187b2",
   "metadata": {},
   "outputs": [
    {
     "data": {
      "text/plain": [
       "array([[48,  2],\n",
       "       [ 5, 25]], dtype=int64)"
      ]
     },
     "execution_count": 17,
     "metadata": {},
     "output_type": "execute_result"
    }
   ],
   "source": [
    "cn"
   ]
  },
  {
   "cell_type": "code",
   "execution_count": 19,
   "id": "b1d742ce",
   "metadata": {},
   "outputs": [],
   "source": [
    "# [[tp , fp]\n",
    "#  [fn , tn]]"
   ]
  },
  {
   "cell_type": "code",
   "execution_count": 20,
   "id": "d0553f30",
   "metadata": {},
   "outputs": [],
   "source": [
    "from sklearn.metrics import accuracy_score"
   ]
  },
  {
   "cell_type": "code",
   "execution_count": 21,
   "id": "de804f09",
   "metadata": {},
   "outputs": [
    {
     "data": {
      "text/plain": [
       "0.9125"
      ]
     },
     "execution_count": 21,
     "metadata": {},
     "output_type": "execute_result"
    }
   ],
   "source": [
    "accuracy_score(y_test , y_pred) "
   ]
  },
  {
   "cell_type": "code",
   "execution_count": 22,
   "id": "fc589360",
   "metadata": {},
   "outputs": [],
   "source": [
    "from sklearn.metrics import precision_score\n",
    "\n",
    "# Assuming y_true and y_pred are the true and predicted labels respectively\n",
    "precision = precision_score(y_test, y_pred)"
   ]
  },
  {
   "cell_type": "code",
   "execution_count": 26,
   "id": "4ef24671",
   "metadata": {},
   "outputs": [
    {
     "data": {
      "text/plain": [
       "0.9259259259259259"
      ]
     },
     "execution_count": 26,
     "metadata": {},
     "output_type": "execute_result"
    }
   ],
   "source": [
    "precision"
   ]
  },
  {
   "cell_type": "code",
   "execution_count": 23,
   "id": "1c009ae5",
   "metadata": {},
   "outputs": [],
   "source": [
    "from sklearn.metrics import recall_score\n",
    "\n",
    "# Assuming y_true and y_pred are the true and predicted labels respectively\n",
    "recall = recall_score(y_test, y_pred)"
   ]
  },
  {
   "cell_type": "code",
   "execution_count": 27,
   "id": "56b15b23",
   "metadata": {},
   "outputs": [
    {
     "data": {
      "text/plain": [
       "0.8333333333333334"
      ]
     },
     "execution_count": 27,
     "metadata": {},
     "output_type": "execute_result"
    }
   ],
   "source": [
    "recall"
   ]
  },
  {
   "cell_type": "code",
   "execution_count": 24,
   "id": "0c5e937d",
   "metadata": {},
   "outputs": [],
   "source": [
    "from sklearn.metrics import f1_score\n",
    "\n",
    "# Assuming y_true and y_pred are the true and predicted labels respectively\n",
    "f1 = f1_score(y_test, y_pred)"
   ]
  },
  {
   "cell_type": "code",
   "execution_count": 28,
   "id": "fa6e7a5f",
   "metadata": {},
   "outputs": [
    {
     "data": {
      "text/plain": [
       "0.8771929824561403"
      ]
     },
     "execution_count": 28,
     "metadata": {},
     "output_type": "execute_result"
    }
   ],
   "source": [
    "f1"
   ]
  },
  {
   "cell_type": "markdown",
   "id": "cb6ced0a",
   "metadata": {},
   "source": [
    "# \n",
    "1. Bernoulli Naive Bayes (BernoulliNB):\n",
    "Scenario: You would use BernoulliNB when your data consists of binary features (i.e., features that take on a value of 0 or 1).\n",
    "Example Use Cases:\n",
    "Text Classification: When you are dealing with text data where the presence or absence of specific words (rather than the frequency of words) is more important. For example, spam detection where the presence of certain words (like \"free\", \"offer\") is critical.\n",
    "Binary Data: Any scenario where features are binary, such as a survey where responses are \"Yes\" (1) or \"No\" (0).\n",
    "    \n",
    "    \n",
    "2. Multinomial Naive Bayes (MultinomialNB):\n",
    "Scenario: MultinomialNB is suitable when your data is represented as counts or frequencies of events. It works well when features represent the frequency of occurrence of a particular event.\n",
    "Example Use Cases:\n",
    "Text Classification: When you have text data and the frequency of words is important. For example, classifying news articles based on word frequency.\n",
    "Document Classification: When the document term matrix (which counts the occurrence of words) is the primary feature set, such as in sentiment analysis or topic categorization.\n",
    "    \n",
    "3. (Gaussian NB): You would use GaussianNB when your features are continuous numerical values that are expected to follow a Gaussian (normal) distribution.\n",
    "Example Use Cases:\n",
    "Iris Flower Classification: Classifying iris species based on features like sepal length, sepal width, petal length, and petal width, which are continuous and can be modeled by a Gaussian distribution.\n",
    "Medical Diagnosis: When features like patient age, blood pressure, or cholesterol levels are continuous and normally distributed, GaussianNB can be used to predict the likelihood of a disease.\n",
    "Weather Prediction: Features such as temperature, humidity, or wind speed, which are continuous and may follow a normal distribution, can be used to predict weather conditions.\n",
    "Finance: Predicting stock prices or market trends using continuous financial metrics that may follow a Gaussian distribution."
   ]
  },
  {
   "cell_type": "code",
   "execution_count": null,
   "id": "e7501087",
   "metadata": {},
   "outputs": [],
   "source": []
  },
  {
   "cell_type": "code",
   "execution_count": null,
   "id": "3bc498c2",
   "metadata": {},
   "outputs": [],
   "source": []
  },
  {
   "cell_type": "code",
   "execution_count": null,
   "id": "5ed0c392",
   "metadata": {},
   "outputs": [],
   "source": []
  },
  {
   "cell_type": "code",
   "execution_count": null,
   "id": "ac66f5ec",
   "metadata": {},
   "outputs": [],
   "source": []
  },
  {
   "cell_type": "code",
   "execution_count": 1,
   "id": "05e479d8",
   "metadata": {},
   "outputs": [
    {
     "name": "stdout",
     "output_type": "stream",
     "text": [
      "Message: 'cheap meds now'\n",
      "Predicted Class: Spam\n",
      "Probabilities: Spam=0.92, Not Spam=0.08\n",
      "\n",
      "Message: 'schedule a meeting'\n",
      "Predicted Class: Not Spam\n",
      "Probabilities: Spam=0.11, Not Spam=0.89\n",
      "\n",
      "Message: 'project schedule'\n",
      "Predicted Class: Not Spam\n",
      "Probabilities: Spam=0.16, Not Spam=0.84\n",
      "\n",
      "Message: 'discount online pills'\n",
      "Predicted Class: Spam\n",
      "Probabilities: Spam=0.84, Not Spam=0.16\n",
      "\n",
      "Message: 'meeting now'\n",
      "Predicted Class: Not Spam\n",
      "Probabilities: Spam=0.43, Not Spam=0.57\n",
      "\n"
     ]
    }
   ],
   "source": [
    "from sklearn.feature_extraction.text import CountVectorizer\n",
    "from sklearn.naive_bayes import MultinomialNB\n",
    "from sklearn.pipeline import make_pipeline\n",
    "\n",
    "# dataset\n",
    "texts = [\n",
    "    \"buy cheap meds now\",\n",
    "    \"cheap pills online\",\n",
    "    \"get discount now\",\n",
    "    \"meeting at office\",\n",
    "    \"project discussion\",\n",
    "    \"schedule a meeting\"\n",
    "]\n",
    "\n",
    "labels = [\"Spam\", \"Spam\", \"Spam\", \"Not Spam\", \"Not Spam\", \"Not Spam\"]\n",
    "\n",
    "# Create a model pipeline\n",
    "model = make_pipeline(CountVectorizer(), MultinomialNB(alpha=1.0))  # Laplace smoothing with alpha=1\n",
    "\n",
    "# Train the model\n",
    "model.fit(texts, labels)\n",
    "\n",
    "# Test messages\n",
    "test_messages = [\n",
    "    \"cheap meds now\",\n",
    "    \"schedule a meeting\",\n",
    "    \"project schedule\",\n",
    "    \"discount online pills\",\n",
    "    \"meeting now\"\n",
    "]\n",
    "\n",
    "# Make predictions\n",
    "predicted = model.predict(test_messages)\n",
    "probs = model.predict_proba(test_messages)\n",
    "\n",
    "# Display results\n",
    "for msg, label, prob in zip(test_messages, predicted, probs):\n",
    "    print(f\"Message: '{msg}'\")\n",
    "    print(f\"Predicted Class: {label}\")\n",
    "    print(f\"Probabilities: Spam={prob[model.classes_.tolist().index('Spam')]:.2f}, Not Spam={prob[model.classes_.tolist().index('Not Spam')]:.2f}\\n\")\n"
   ]
  },
  {
   "cell_type": "code",
   "execution_count": null,
   "id": "1207374c",
   "metadata": {},
   "outputs": [],
   "source": []
  }
 ],
 "metadata": {
  "kernelspec": {
   "display_name": "Python 3 (ipykernel)",
   "language": "python",
   "name": "python3"
  },
  "language_info": {
   "codemirror_mode": {
    "name": "ipython",
    "version": 3
   },
   "file_extension": ".py",
   "mimetype": "text/x-python",
   "name": "python",
   "nbconvert_exporter": "python",
   "pygments_lexer": "ipython3",
   "version": "3.9.12"
  }
 },
 "nbformat": 4,
 "nbformat_minor": 5
}
