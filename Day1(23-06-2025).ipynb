{
 "cells": [
  {
   "cell_type": "code",
   "execution_count": 1,
   "id": "949ff5c6-bc86-45c8-a725-626fa862e374",
   "metadata": {},
   "outputs": [],
   "source": [
    "# Introduction to Machine Learning---- >\n",
    "# Data(df) --- > x(input) , y(output)\n",
    "# x ----- > x_train , x_test\n",
    "# y ---- > y_train , y_test\n",
    "\n",
    "# Machine find the relation between input to target data .\n",
    "\n",
    "# Machine (input) --- > output ????\n",
    "\n",
    "# Machine(x_train , y_train) ---- > Machine(x_test) ---- > output ?????\n",
    "# Actual_output = y_test , Machine_predict = y_pred\n",
    "\n",
    "# Machine Capability ---- > y_test <--- > y_pred"
   ]
  },
  {
   "cell_type": "markdown",
   "id": "939fafad-c6cb-4339-9104-1834a028fcc0",
   "metadata": {},
   "source": [
    "# step 1 Data Dividation"
   ]
  },
  {
   "cell_type": "code",
   "execution_count": 2,
   "id": "764d7818-693e-44ca-97bb-c5b600998f22",
   "metadata": {},
   "outputs": [],
   "source": [
    "import numpy as np\n",
    "import pandas as pd"
   ]
  },
  {
   "cell_type": "code",
   "execution_count": 6,
   "id": "6ffd054f-4def-463f-ac7c-27f736455a49",
   "metadata": {},
   "outputs": [
    {
     "data": {
      "text/html": [
       "<div>\n",
       "<style scoped>\n",
       "    .dataframe tbody tr th:only-of-type {\n",
       "        vertical-align: middle;\n",
       "    }\n",
       "\n",
       "    .dataframe tbody tr th {\n",
       "        vertical-align: top;\n",
       "    }\n",
       "\n",
       "    .dataframe thead th {\n",
       "        text-align: right;\n",
       "    }\n",
       "</style>\n",
       "<table border=\"1\" class=\"dataframe\">\n",
       "  <thead>\n",
       "    <tr style=\"text-align: right;\">\n",
       "      <th></th>\n",
       "      <th>age</th>\n",
       "      <th>gender</th>\n",
       "      <th>fever</th>\n",
       "      <th>cough</th>\n",
       "      <th>city</th>\n",
       "      <th>has_covid</th>\n",
       "    </tr>\n",
       "  </thead>\n",
       "  <tbody>\n",
       "    <tr>\n",
       "      <th>0</th>\n",
       "      <td>60</td>\n",
       "      <td>Male</td>\n",
       "      <td>103.0</td>\n",
       "      <td>Mild</td>\n",
       "      <td>Kolkata</td>\n",
       "      <td>No</td>\n",
       "    </tr>\n",
       "    <tr>\n",
       "      <th>1</th>\n",
       "      <td>27</td>\n",
       "      <td>Male</td>\n",
       "      <td>100.0</td>\n",
       "      <td>Mild</td>\n",
       "      <td>Delhi</td>\n",
       "      <td>Yes</td>\n",
       "    </tr>\n",
       "    <tr>\n",
       "      <th>2</th>\n",
       "      <td>42</td>\n",
       "      <td>Male</td>\n",
       "      <td>101.0</td>\n",
       "      <td>Mild</td>\n",
       "      <td>Delhi</td>\n",
       "      <td>No</td>\n",
       "    </tr>\n",
       "  </tbody>\n",
       "</table>\n",
       "</div>"
      ],
      "text/plain": [
       "   age gender  fever cough     city has_covid\n",
       "0   60   Male  103.0  Mild  Kolkata        No\n",
       "1   27   Male  100.0  Mild    Delhi       Yes\n",
       "2   42   Male  101.0  Mild    Delhi        No"
      ]
     },
     "execution_count": 6,
     "metadata": {},
     "output_type": "execute_result"
    }
   ],
   "source": [
    "df=pd.read_csv(\"covid_toy.csv\")\n",
    "df.head(3)"
   ]
  },
  {
   "cell_type": "code",
   "execution_count": 7,
   "id": "7967f110-b42d-40a3-ac2b-6168ab12f315",
   "metadata": {},
   "outputs": [
    {
     "data": {
      "text/plain": [
       "(100, 6)"
      ]
     },
     "execution_count": 7,
     "metadata": {},
     "output_type": "execute_result"
    }
   ],
   "source": [
    "df.shape"
   ]
  },
  {
   "cell_type": "code",
   "execution_count": 8,
   "id": "feff2aec-f9e4-42b2-963c-6039f9045278",
   "metadata": {},
   "outputs": [
    {
     "data": {
      "text/plain": [
       "age           0\n",
       "gender        0\n",
       "fever        10\n",
       "cough         0\n",
       "city          0\n",
       "has_covid     0\n",
       "dtype: int64"
      ]
     },
     "execution_count": 8,
     "metadata": {},
     "output_type": "execute_result"
    }
   ],
   "source": [
    "df.isnull().sum()"
   ]
  },
  {
   "cell_type": "code",
   "execution_count": 9,
   "id": "cb4ff8d3-9c6b-4dd2-930a-0a0650c08053",
   "metadata": {},
   "outputs": [],
   "source": [
    "df[ 'fever' ] = df [ 'fever' ] . fillna(df [ 'fever' ] . mean())"
   ]
  },
  {
   "cell_type": "code",
   "execution_count": 10,
   "id": "fcbf37a3-d46a-40ea-8b72-cc1dd64b5502",
   "metadata": {},
   "outputs": [
    {
     "data": {
      "text/plain": [
       "age          0\n",
       "gender       0\n",
       "fever        0\n",
       "cough        0\n",
       "city         0\n",
       "has_covid    0\n",
       "dtype: int64"
      ]
     },
     "execution_count": 10,
     "metadata": {},
     "output_type": "execute_result"
    }
   ],
   "source": [
    "df. isnull().sum()"
   ]
  },
  {
   "cell_type": "code",
   "execution_count": 17,
   "id": "ae3a4c3b-51d5-4c96-8cc1-b9bae8ad50c9",
   "metadata": {},
   "outputs": [
    {
     "data": {
      "text/html": [
       "<div>\n",
       "<style scoped>\n",
       "    .dataframe tbody tr th:only-of-type {\n",
       "        vertical-align: middle;\n",
       "    }\n",
       "\n",
       "    .dataframe tbody tr th {\n",
       "        vertical-align: top;\n",
       "    }\n",
       "\n",
       "    .dataframe thead th {\n",
       "        text-align: right;\n",
       "    }\n",
       "</style>\n",
       "<table border=\"1\" class=\"dataframe\">\n",
       "  <thead>\n",
       "    <tr style=\"text-align: right;\">\n",
       "      <th></th>\n",
       "      <th>age</th>\n",
       "      <th>gender</th>\n",
       "      <th>fever</th>\n",
       "      <th>cough</th>\n",
       "      <th>city</th>\n",
       "    </tr>\n",
       "  </thead>\n",
       "  <tbody>\n",
       "    <tr>\n",
       "      <th>0</th>\n",
       "      <td>60</td>\n",
       "      <td>Male</td>\n",
       "      <td>103.0</td>\n",
       "      <td>Mild</td>\n",
       "      <td>Kolkata</td>\n",
       "    </tr>\n",
       "    <tr>\n",
       "      <th>1</th>\n",
       "      <td>27</td>\n",
       "      <td>Male</td>\n",
       "      <td>100.0</td>\n",
       "      <td>Mild</td>\n",
       "      <td>Delhi</td>\n",
       "    </tr>\n",
       "    <tr>\n",
       "      <th>2</th>\n",
       "      <td>42</td>\n",
       "      <td>Male</td>\n",
       "      <td>101.0</td>\n",
       "      <td>Mild</td>\n",
       "      <td>Delhi</td>\n",
       "    </tr>\n",
       "  </tbody>\n",
       "</table>\n",
       "</div>"
      ],
      "text/plain": [
       "   age gender  fever cough     city\n",
       "0   60   Male  103.0  Mild  Kolkata\n",
       "1   27   Male  100.0  Mild    Delhi\n",
       "2   42   Male  101.0  Mild    Delhi"
      ]
     },
     "execution_count": 17,
     "metadata": {},
     "output_type": "execute_result"
    }
   ],
   "source": [
    "x = df.drop(columns = ['has_covid' ])## Input data\n",
    "x.head(3)"
   ]
  },
  {
   "cell_type": "code",
   "execution_count": 18,
   "id": "ea19b4c6-670f-407f-b368-ac8b4d874c49",
   "metadata": {},
   "outputs": [
    {
     "data": {
      "text/plain": [
       "0     No\n",
       "1    Yes\n",
       "2     No\n",
       "Name: has_covid, dtype: object"
      ]
     },
     "execution_count": 18,
     "metadata": {},
     "output_type": "execute_result"
    }
   ],
   "source": [
    "y = df['has_covid' ]## target data\n",
    "y.head(3)"
   ]
  },
  {
   "cell_type": "code",
   "execution_count": 13,
   "id": "ff05ea55-f7fa-48da-98c6-76cb15585eb7",
   "metadata": {},
   "outputs": [],
   "source": [
    "from sklearn. model_selection import train_test_split"
   ]
  },
  {
   "cell_type": "code",
   "execution_count": 14,
   "id": "9970e7a1-a25c-4732-ad2d-e1d212b08a00",
   "metadata": {},
   "outputs": [],
   "source": [
    "x_train, x_test, y_train, y_test = train_test_split(x,y, test_size=0.2, random_state=30)"
   ]
  },
  {
   "cell_type": "code",
   "execution_count": 22,
   "id": "fcad2be8-1b30-4ac5-bd10-4c92ed38bacc",
   "metadata": {},
   "outputs": [
    {
     "name": "stdout",
     "output_type": "stream",
     "text": [
      "Total data shape : (100, 6)\n",
      "--------------------------------\n",
      "Input data(x) shape: (100, 5)\n",
      "x_train data shape: (80, 5)\n",
      "x_test data shape: (20, 5)\n",
      "---------------------------------\n",
      "Target data shape(y): (100,)\n",
      "y_train data shape : (80,)\n",
      "y_test data shape: (20,)\n",
      "----------------------------------\n"
     ]
    }
   ],
   "source": [
    "print(\"Total data shape :\" , df.shape)\n",
    "print(\"--------------------------------\" )\n",
    "print(\"Input data(x) shape:\" , x.shape)\n",
    "print(\"x_train data shape:\" , x_train. shape)\n",
    "print(\"x_test data shape:\" , x_test.shape)\n",
    "print(\"---------------------------------\")\n",
    "print(\"Target data shape(y):\" , y. shape)\n",
    "print(\"y_train data shape :\" , y_train.shape)\n",
    "print(\"y_test data shape:\" , y_test. shape)\n",
    "print(\"----------------------------------\")\n"
   ]
  },
  {
   "cell_type": "code",
   "execution_count": 19,
   "id": "65e6da19-28aa-406b-91e6-473d2146467d",
   "metadata": {},
   "outputs": [],
   "source": [
    "# df(100,6) = x(100,5) + y(100,1)\n",
    "# x(100,5) = x_train(80,5) + x_test(20,5)\n",
    "# y(100,1) = y_train(80,1) + y_test(20,1)\n"
   ]
  },
  {
   "cell_type": "code",
   "execution_count": null,
   "id": "fc8b182e-1cd3-4230-a8aa-9bdf66bd7bd0",
   "metadata": {},
   "outputs": [],
   "source": []
  }
 ],
 "metadata": {
  "kernelspec": {
   "display_name": "Python [conda env:base] *",
   "language": "python",
   "name": "conda-base-py"
  },
  "language_info": {
   "codemirror_mode": {
    "name": "ipython",
    "version": 3
   },
   "file_extension": ".py",
   "mimetype": "text/x-python",
   "name": "python",
   "nbconvert_exporter": "python",
   "pygments_lexer": "ipython3",
   "version": "3.12.7"
  }
 },
 "nbformat": 4,
 "nbformat_minor": 5
}
