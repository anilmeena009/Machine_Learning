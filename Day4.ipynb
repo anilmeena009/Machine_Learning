{
 "cells": [
  {
   "cell_type": "markdown",
   "id": "bd4e2a17-054f-4b26-8675-be8dc589cd43",
   "metadata": {},
   "source": [
    "# Function Transformer--->"
   ]
  },
  {
   "cell_type": "code",
   "execution_count": 1,
   "id": "3d8d6742-ca8f-44bb-842a-702dac428932",
   "metadata": {},
   "outputs": [],
   "source": [
    "# dataset --- > custom operation apply --- > use function transformer .\n",
    "# Function transformer --- > object create -- > as an argument function(pre-defined or custom)\n",
    "# logic --- > apply dataset ."
   ]
  },
  {
   "cell_type": "code",
   "execution_count": 7,
   "id": "b1d2a315-8499-44d4-902e-cb497708d81d",
   "metadata": {},
   "outputs": [],
   "source": [
    "from sklearn.preprocessing import FunctionTransformer\n",
    "import numpy as np"
   ]
  },
  {
   "cell_type": "code",
   "execution_count": 8,
   "id": "4f8d44fe-7ea8-49a3-8556-1790069061dd",
   "metadata": {},
   "outputs": [
    {
     "name": "stdout",
     "output_type": "stream",
     "text": [
      "[[1 2]\n",
      " [3 4]]\n",
      "[[0.69314718 1.09861229]\n",
      " [1.38629436 1.60943791]]\n"
     ]
    }
   ],
   "source": [
    "# create a dataset\n",
    "X = np.array([[1, 2], [3, 4]])\n",
    "print(X)\n",
    "\n",
    "# define the transformation function\n",
    "log_transform = FunctionTransformer(np.log1p)\n",
    "\n",
    "# apply the transformation to the dataset\n",
    "X_transformed = log_transform. transform(X)\n",
    "\n",
    "# view the transformed data\n",
    "print(X_transformed)"
   ]
  },
  {
   "cell_type": "code",
   "execution_count": 13,
   "id": "a0140c24-c268-4e98-abfb-62a2a02d10b7",
   "metadata": {},
   "outputs": [
    {
     "name": "stdout",
     "output_type": "stream",
     "text": [
      "[[1 2]\n",
      " [3 4]]\n",
      "[[ 1  2  1  4]\n",
      " [ 3  4  9 16]]\n"
     ]
    }
   ],
   "source": [
    "# create a dataset\n",
    "X = np.array([[1, 2], [3, 4]])\n",
    "print(X)\n",
    "\n",
    "# define a custom feature engineering function\n",
    "def squ(X) :\n",
    "    return np.hstack((X, X ** 2))\n",
    "\n",
    "# create a FunctionTransformer to apply the custom function\n",
    "custom_transformer =FunctionTransformer(squ)\n",
    "\n",
    "# apply the transformer to the input data\n",
    "X_transformed =custom_transformer.transform(X)\n",
    "# view the transformed data\n",
    "print(X_transformed)"
   ]
  },
  {
   "cell_type": "code",
   "execution_count": 15,
   "id": "b18fb637-c310-44a8-ad5b-4a1c3acbf211",
   "metadata": {},
   "outputs": [
    {
     "name": "stdout",
     "output_type": "stream",
     "text": [
      "[[0.25 0.5 ]\n",
      " [0.75 1.  ]]\n"
     ]
    }
   ],
   "source": [
    "# create a dataset\n",
    "X = np.array([[1, 2], [3, 4]])\n",
    "\n",
    "# define a custom scaling function\n",
    "def my_scaling(X):\n",
    "    return X / np.max(X)\n",
    "\n",
    "# create a FunctionTransformer to apply the custom function\n",
    "custom_transformer = FunctionTransformer(my_scaling)\n",
    "\n",
    "# apply the transformer to the input data\n",
    "X_transformed = custom_transformer. transform(X)\n",
    "\n",
    "# view the transformed data\n",
    "print(X_transformed)\n"
   ]
  },
  {
   "cell_type": "markdown",
   "id": "9a2a14b9-bf53-4285-98a2-b0754a985580",
   "metadata": {},
   "source": [
    "# Pipe Line"
   ]
  },
  {
   "cell_type": "code",
   "execution_count": 16,
   "id": "58bb3117-22e6-4995-a9df-42b7a7fdf9d9",
   "metadata": {},
   "outputs": [],
   "source": [
    "# Pipeline --- > container steps of process but sequentially .\n",
    "# column transformer --- > 1 step output will not the 2 step input\n",
    "# Pipeline ---- > output of 1 step will be input of second step .\n",
    "# Data ---- > x,y ---- > categorical data [] --- > encoding --- > Normal distribution , Numerical data [] -- > normal"
   ]
  },
  {
   "cell_type": "code",
   "execution_count": 18,
   "id": "bccfd28a-288b-4899-95fe-215820de591b",
   "metadata": {},
   "outputs": [],
   "source": [
    "import numpy as np\n",
    "import pandas as pd"
   ]
  },
  {
   "cell_type": "code",
   "execution_count": 22,
   "id": "960324fc-a1ca-454c-834a-1378c1653c65",
   "metadata": {},
   "outputs": [
    {
     "data": {
      "text/html": [
       "<div>\n",
       "<style scoped>\n",
       "    .dataframe tbody tr th:only-of-type {\n",
       "        vertical-align: middle;\n",
       "    }\n",
       "\n",
       "    .dataframe tbody tr th {\n",
       "        vertical-align: top;\n",
       "    }\n",
       "\n",
       "    .dataframe thead th {\n",
       "        text-align: right;\n",
       "    }\n",
       "</style>\n",
       "<table border=\"1\" class=\"dataframe\">\n",
       "  <thead>\n",
       "    <tr style=\"text-align: right;\">\n",
       "      <th></th>\n",
       "      <th>age</th>\n",
       "      <th>gender</th>\n",
       "      <th>fever</th>\n",
       "      <th>cough</th>\n",
       "      <th>city</th>\n",
       "      <th>has_covid</th>\n",
       "    </tr>\n",
       "  </thead>\n",
       "  <tbody>\n",
       "    <tr>\n",
       "      <th>0</th>\n",
       "      <td>60</td>\n",
       "      <td>Male</td>\n",
       "      <td>103.0</td>\n",
       "      <td>Mild</td>\n",
       "      <td>Kolkata</td>\n",
       "      <td>No</td>\n",
       "    </tr>\n",
       "    <tr>\n",
       "      <th>1</th>\n",
       "      <td>27</td>\n",
       "      <td>Male</td>\n",
       "      <td>100.0</td>\n",
       "      <td>Mild</td>\n",
       "      <td>Delhi</td>\n",
       "      <td>Yes</td>\n",
       "    </tr>\n",
       "    <tr>\n",
       "      <th>2</th>\n",
       "      <td>42</td>\n",
       "      <td>Male</td>\n",
       "      <td>101.0</td>\n",
       "      <td>Mild</td>\n",
       "      <td>Delhi</td>\n",
       "      <td>No</td>\n",
       "    </tr>\n",
       "  </tbody>\n",
       "</table>\n",
       "</div>"
      ],
      "text/plain": [
       "   age gender  fever cough     city has_covid\n",
       "0   60   Male  103.0  Mild  Kolkata        No\n",
       "1   27   Male  100.0  Mild    Delhi       Yes\n",
       "2   42   Male  101.0  Mild    Delhi        No"
      ]
     },
     "execution_count": 22,
     "metadata": {},
     "output_type": "execute_result"
    }
   ],
   "source": [
    "df=pd.read_csv(\"covid_toy.csv\")\n",
    "df.head(3)"
   ]
  },
  {
   "cell_type": "code",
   "execution_count": 29,
   "id": "3dc205e7-2bda-4d2a-ae69-c1e935c2081d",
   "metadata": {},
   "outputs": [],
   "source": [
    "from sklearn. compose import ColumnTransformer\n",
    "from sklearn.pipeline import Pipeline\n",
    "from sklearn.impute import SimpleImputer\n",
    "from sklearn.preprocessing import StandardScaler, OneHotEncoder\n",
    "from sklearn.linear_model import LogisticRegression\n",
    "from sklearn.model_selection import train_test_split\n"
   ]
  },
  {
   "cell_type": "code",
   "execution_count": 30,
   "id": "d406c269-5fe8-44ca-b1a7-032b30d626c3",
   "metadata": {},
   "outputs": [],
   "source": [
    "X = df. drop(columns = ['has_covid' ])\n",
    "y = df[ 'has_covid' ]\n",
    "X_train, X_test, y_train, y_test = train_test_split(X, y, test_size=0.2,\n",
    "                                                    random_state=42)"
   ]
  },
  {
   "cell_type": "code",
   "execution_count": 34,
   "id": "944ec65e-054e-43b5-8b14-514e67e96b53",
   "metadata": {},
   "outputs": [],
   "source": [
    "# Define the columns that need to be preprocessed\n",
    "categorical_features = ['gender', 'city' ]\n",
    "numeric_features = ['age', 'fever' ]\n"
   ]
  },
  {
   "cell_type": "code",
   "execution_count": null,
   "id": "fe5f205a-d58c-457e-b919-0f541e6f66d7",
   "metadata": {},
   "outputs": [],
   "source": []
  },
  {
   "cell_type": "code",
   "execution_count": 37,
   "id": "e785699e-87ac-4df8-9991-b5dbf90fa1dd",
   "metadata": {},
   "outputs": [],
   "source": [
    "# Create transformers\n",
    "numeric_transformer = Pipeline(steps=[\n",
    "    ('imputer', SimpleImputer(strategy='mean' )),\n",
    "    ('scaler', StandardScaler())\n",
    "])\n",
    "categorical_transformer = Pipeline(steps=[\n",
    "    ('imputer', SimpleImputer(strategy='most_frequent')),\n",
    "    ('onehot' , OneHotEncoder(handle_unknown='ignore'))\n",
    "])\n",
    "\n",
    "# Combine transformers\n",
    "preprocessor = ColumnTransformer (\n",
    "    transformers=[\n",
    "        ('num' , numeric_transformer, numeric_features),\n",
    "        ('cat', categorical_transformer, categorical_features)\n",
    "    ])\n",
    "# Create the pipeline\n",
    "clf = Pipeline(steps=[ ('preprocessor', preprocessor),\n",
    "                      ('classifier', LogisticRegression())])\n",
    "\n",
    "# Train the model\n",
    "clf.fit(X_train, y_train)\n",
    "\n",
    "# Evaluate the model\n",
    "y_pred = clf.predict(X_test)\n"
   ]
  },
  {
   "cell_type": "code",
   "execution_count": 38,
   "id": "6cd3ebdc-aee5-4a53-b451-16d4dddc5cd4",
   "metadata": {},
   "outputs": [],
   "source": [
    "from sklearn. metrics import accuracy_score"
   ]
  },
  {
   "cell_type": "code",
   "execution_count": 39,
   "id": "a662aa50-6484-46b8-be4a-de4bfbbbcb4c",
   "metadata": {},
   "outputs": [
    {
     "data": {
      "text/plain": [
       "0.65"
      ]
     },
     "execution_count": 39,
     "metadata": {},
     "output_type": "execute_result"
    }
   ],
   "source": [
    "accuracy_score(y_test, y_pred)"
   ]
  },
  {
   "cell_type": "code",
   "execution_count": null,
   "id": "e9dd0489-afea-4ae1-a581-a1d823ba6153",
   "metadata": {},
   "outputs": [],
   "source": []
  }
 ],
 "metadata": {
  "kernelspec": {
   "display_name": "Python [conda env:base] *",
   "language": "python",
   "name": "conda-base-py"
  },
  "language_info": {
   "codemirror_mode": {
    "name": "ipython",
    "version": 3
   },
   "file_extension": ".py",
   "mimetype": "text/x-python",
   "name": "python",
   "nbconvert_exporter": "python",
   "pygments_lexer": "ipython3",
   "version": "3.12.7"
  }
 },
 "nbformat": 4,
 "nbformat_minor": 5
}
